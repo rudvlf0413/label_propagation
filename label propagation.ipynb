{
 "cells": [
  {
   "cell_type": "code",
   "execution_count": 1,
   "metadata": {
    "ExecuteTime": {
     "end_time": "2017-11-19T14:54:44.016830Z",
     "start_time": "2017-11-19T14:54:27.235968Z"
    }
   },
   "outputs": [
    {
     "name": "stderr",
     "output_type": "stream",
     "text": [
      "Using TensorFlow backend.\n"
     ]
    }
   ],
   "source": [
    "# coding: utf-8\n",
    "from label_propagation import LGC, HMN, PARW, OMNI, CAMLP\n",
    "from sklearn.model_selection import GridSearchCV\n",
    "from sklearn.model_selection import train_test_split\n",
    "from sklearn.metrics import f1_score, accuracy_score\n",
    "from scipy.sparse import dok_matrix\n",
    "import numpy as np\n",
    "import networkx as nx\n",
    "from collections import Counter\n",
    "import pickle\n",
    "import re\n",
    "import gensim\n",
    "from itertools import product\n",
    "from scipy.spatial.distance import euclidean\n",
    "import pulp\n",
    "\n",
    "# 다른 비교 모델\n",
    "# https://networkx.github.io/documentation/stable/reference/algorithms/generated/networkx.algorithms.community.asyn_lpa.asyn_lpa_communities.html#networkx.algorithms.community.asyn_lpa.asyn_lpa_communities\n",
    "\n",
    "with open(\"data/tweets.txt\", 'rb') as f:\n",
    "    data = pickle.load(f)\n",
    "    \n",
    "word2vec = gensim.models.KeyedVectors.load_word2vec_format('word2vec.txt')"
   ]
  },
  {
   "cell_type": "code",
   "execution_count": 12,
   "metadata": {
    "ExecuteTime": {
     "end_time": "2017-11-19T14:59:24.257428Z",
     "start_time": "2017-11-19T14:59:24.177462Z"
    },
    "collapsed": true
   },
   "outputs": [],
   "source": [
    "data_ = []\n",
    "for d in data:\n",
    "    tmp = {}\n",
    "    tmp['label'] = d['label']\n",
    "    text = d['body']\n",
    "    text = re.sub(r'http\\S+', '', text)\n",
    "    text = [w for w in text.split() if w.isalpha()]\n",
    "    if len(text) < 2:\n",
    "        # 단어 한개 이하는 무시\n",
    "        continue\n",
    "        \n",
    "    text = \" \".join(text).strip()\n",
    "    text = text.lower()\n",
    "\n",
    "    if text == '':\n",
    "        # 빈 문자열 무시\n",
    "        continue\n",
    "\n",
    "    tmp['body'] = text\n",
    "    tmp['sentence_embedding'] = d['sentence_embedding']\n",
    "    data_.append(tmp)\n",
    "\n",
    "data = data_\n",
    "del data_\n",
    "\n",
    "data = [(i, d['body'], d['label']) for i, d in enumerate(data)]"
   ]
  },
  {
   "cell_type": "code",
   "execution_count": 2,
   "metadata": {
    "ExecuteTime": {
     "end_time": "2017-11-19T14:54:44.035080Z",
     "start_time": "2017-11-19T14:54:44.018352Z"
    },
    "collapsed": true
   },
   "outputs": [],
   "source": [
    "def tokens_to_fracdict(tokens):\n",
    "    cntdict = Counter(tokens)\n",
    "    totalcnt = sum(cntdict.values())\n",
    "    return {token: float(cnt)/totalcnt for token, cnt in cntdict.items()}\n",
    "\n",
    "# use PuLP\n",
    "def word_mover_distance_probspec(first_sent_tokens, second_sent_tokens, wvmodel):\n",
    "    all_tokens = list(set(first_sent_tokens+second_sent_tokens))\n",
    "    wordvecs = {token: wvmodel[token] for token in all_tokens}\n",
    "\n",
    "    first_sent_buckets = tokens_to_fracdict(first_sent_tokens)\n",
    "    second_sent_buckets = tokens_to_fracdict(second_sent_tokens)\n",
    "\n",
    "    T = pulp.LpVariable.dicts('T_matrix', list(product(all_tokens, all_tokens)), lowBound=0)\n",
    "\n",
    "    prob = pulp.LpProblem('WMD', sense=pulp.LpMinimize)\n",
    "    prob += pulp.lpSum([T[token1, token2]*euclidean(wordvecs[token1], wordvecs[token2])\n",
    "                        for token1, token2 in product(all_tokens, all_tokens)])\n",
    "    for token2 in second_sent_buckets:\n",
    "        prob += pulp.lpSum([T[token1, token2] for token1 in first_sent_buckets])==second_sent_buckets[token2]\n",
    "    for token1 in first_sent_buckets:\n",
    "        prob += pulp.lpSum([T[token1, token2] for token2 in second_sent_buckets])==first_sent_buckets[token1]\n",
    "\n",
    "    prob.solve()\n",
    "    return prob\n",
    "\n",
    "def word_mover_distance(first_sent_tokens, second_sent_tokens, wvmodel):\n",
    "    prob = word_mover_distance_probspec(first_sent_tokens, second_sent_tokens, wvmodel)\n",
    "    return pulp.value(prob.objective)"
   ]
  },
  {
   "cell_type": "code",
   "execution_count": 21,
   "metadata": {
    "ExecuteTime": {
     "end_time": "2017-11-19T15:15:25.759989Z",
     "start_time": "2017-11-19T15:15:00.091401Z"
    },
    "collapsed": true
   },
   "outputs": [],
   "source": [
    "G = nx.Graph()\n",
    "for i, body, label in data:\n",
    "    words_i = set(body.split())\n",
    "    for j, body2, label2 in data[i+1:]:\n",
    "        words_j = set(body2.split())\n",
    "        \n",
    "        if len(words_i.intersection(words_j)) > 4:\n",
    "            G.add_edge(i, j)"
   ]
  },
  {
   "cell_type": "code",
   "execution_count": 22,
   "metadata": {
    "ExecuteTime": {
     "end_time": "2017-11-19T15:37:49.503768Z",
     "start_time": "2017-11-19T15:15:25.761585Z"
    }
   },
   "outputs": [
    {
     "name": "stdout",
     "output_type": "stream",
     "text": [
      "5600\n",
      "1747\n",
      "0\n",
      "100\n",
      "200\n",
      "300\n",
      "400\n",
      "500\n",
      "600\n",
      "700\n",
      "800\n",
      "900\n",
      "1000\n",
      "1100\n",
      "1200\n",
      "1300\n",
      "1400\n",
      "1500\n",
      "1600\n",
      "1700\n"
     ]
    }
   ],
   "source": [
    "num_data = len(data)\n",
    "adjacency = dok_matrix((num_data, num_data), dtype=np.float32)\n",
    "\n",
    "print(num_data)\n",
    "print(len(G.adj))\n",
    "for idx, i in enumerate(G.adj):\n",
    "    if idx % 100 == 0:\n",
    "        print(idx)\n",
    "    token_i = [w for w in data[i][1].split() if w in word2vec]\n",
    "    for j in G.adj[i]:\n",
    "        token_j = [w for w in data[j][1].split() if w in word2vec]\n",
    "        distance = word_mover_distance(token_i, token_j, word2vec)\n",
    "        adjacency[i, j] = distance\n",
    "        adjacency[j, i] = distance\n",
    "\n",
    "adjacency = adjacency.tocsr()"
   ]
  },
  {
   "cell_type": "code",
   "execution_count": 23,
   "metadata": {
    "ExecuteTime": {
     "end_time": "2017-11-19T15:47:25.269730Z",
     "start_time": "2017-11-19T15:47:25.239206Z"
    },
    "collapsed": true
   },
   "outputs": [],
   "source": [
    "np.savez(\"adjacency.npz\", adjacency)"
   ]
  },
  {
   "cell_type": "code",
   "execution_count": 23,
   "metadata": {
    "ExecuteTime": {
     "end_time": "2017-11-14T14:06:49.120941Z",
     "start_time": "2017-11-14T14:06:49.093555Z"
    },
    "collapsed": true
   },
   "outputs": [],
   "source": [
    "labels = {'related': 1, 'not related': 0}\n",
    "train_num = 135\n",
    "# related\n",
    "X_train = [i for i in range(135)]\n",
    "# not related\n",
    "# X_train.extend([i for i in range(1345, 1846)])\n",
    "X_train.extend([i for i in range(1345, 1345+train_num)])\n",
    "X_train = np.array(X_train)\n",
    "\n",
    "# related\n",
    "X_test = [i for i in range(135, 1345)]\n",
    "# not related\n",
    "X_test.extend([i for i in range(1345+train_num, num_data)])\n",
    "X_test = np.array(X_test)\n",
    "\n",
    "# related\n",
    "y_train = [labels[t[2]] for t in data[:135]]\n",
    "# not related\n",
    "y_train.extend([labels[t[2]] for t in data[1345: 1345+train_num]])\n",
    "y_train = np.array(y_train)\n",
    "\n",
    "# related\n",
    "y_test = [labels[t[2]] for t in data[135: 1345]]\n",
    "# not related\n",
    "y_test.extend([labels[t[2]] for t in data[1345+train_num: num_data]])\n",
    "y_test = np.array(y_test)"
   ]
  },
  {
   "cell_type": "code",
   "execution_count": 27,
   "metadata": {
    "ExecuteTime": {
     "end_time": "2017-11-14T14:11:37.900858Z",
     "start_time": "2017-11-14T14:11:30.671639Z"
    }
   },
   "outputs": [
    {
     "name": "stdout",
     "output_type": "stream",
     "text": [
      "=========================\n",
      "HMN\n",
      "{'graph': <6345x6345 sparse matrix of type '<class 'numpy.float32'>'\n",
      "\twith 52296 stored elements in Compressed Sparse Row format>}\n",
      "Accuracy: 0.755556\n",
      "f1 score: 0.249621\n",
      "=========================\n",
      "LGC\n",
      "{'alpha': 0.5, 'graph': <6345x6345 sparse matrix of type '<class 'numpy.float32'>'\n",
      "\twith 52296 stored elements in Compressed Sparse Row format>}\n",
      "Accuracy: 0.798848\n",
      "f1 score: 0.247537\n",
      "=========================\n",
      "OMNI\n",
      "{'graph': <6345x6345 sparse matrix of type '<class 'numpy.float32'>'\n",
      "\twith 52296 stored elements in Compressed Sparse Row format>, 'lamb': 0.001}\n",
      "Accuracy: 0.741564\n",
      "f1 score: 0.259434\n",
      "=========================\n",
      "CAMLP\n",
      "{'H': array([[1, 0],\n",
      "       [0, 1]]), 'beta': 0.025, 'graph': <6345x6345 sparse matrix of type '<class 'numpy.float32'>'\n",
      "\twith 52296 stored elements in Compressed Sparse Row format>}\n",
      "Accuracy: 0.821070\n",
      "f1 score: 0.243563\n"
     ]
    }
   ],
   "source": [
    "methods = [('HMN', HMN(), {'graph': [adjacency]}),\n",
    "           ('LGC', LGC(), {'graph': [adjacency], 'alpha':[\n",
    "            0.1, 0.25, 0.5, 0.75]}),\n",
    "           # ('PARW', PARW(), {'graph':[adjacency], 'lamb':[0.01, 0.05, 0.01, 0.5, 0.99]}),\n",
    "           ('OMNI', OMNI(), {'graph': [adjacency], 'lamb':[\n",
    "            0.001, 0.025, 0.005, 0.01]}),\n",
    "           ('CAMLP', CAMLP(), {'graph': [adjacency], 'beta':[\n",
    "            0.01, 0.025, 0.05, 0.1], 'H':[np.array([[1, 0], [0, 1]])]})]\n",
    "\n",
    "models = []\n",
    "for name, clf, params in methods:\n",
    "    print(\"=========================\")\n",
    "    print(name)\n",
    "    gs = GridSearchCV(clf, params, cv=10, n_jobs=10)\n",
    "    gs.fit(X_train, y_train)\n",
    "\n",
    "    model = gs.best_estimator_\n",
    "    print(gs.best_params_)\n",
    "    model.fit(X_train, y_train)\n",
    "    models.append(model)\n",
    "\n",
    "    predicted = model.predict(X_test)\n",
    "    print(\"Accuracy: %f\" % accuracy_score(y_test, predicted))\n",
    "    print(\"f1 score: %f\" % f1_score(y_test, predicted))"
   ]
  },
  {
   "cell_type": "code",
   "execution_count": 12,
   "metadata": {
    "ExecuteTime": {
     "end_time": "2017-11-14T13:04:57.791991Z",
     "start_time": "2017-11-14T13:04:57.788437Z"
    }
   },
   "outputs": [
    {
     "name": "stdout",
     "output_type": "stream",
     "text": [
      "5635\n",
      "6075\n"
     ]
    }
   ],
   "source": [
    "print(len(predicted[predicted==0]))\n",
    "print(len(predicted))"
   ]
  },
  {
   "cell_type": "code",
   "execution_count": null,
   "metadata": {
    "collapsed": true
   },
   "outputs": [],
   "source": []
  }
 ],
 "metadata": {
  "kernelspec": {
   "display_name": "Python 3",
   "language": "python",
   "name": "python3"
  },
  "language_info": {
   "codemirror_mode": {
    "name": "ipython",
    "version": 3
   },
   "file_extension": ".py",
   "mimetype": "text/x-python",
   "name": "python",
   "nbconvert_exporter": "python",
   "pygments_lexer": "ipython3",
   "version": "3.6.3"
  },
  "varInspector": {
   "cols": {
    "lenName": 16,
    "lenType": 16,
    "lenVar": 40
   },
   "kernels_config": {
    "python": {
     "delete_cmd_postfix": "",
     "delete_cmd_prefix": "del ",
     "library": "var_list.py",
     "varRefreshCmd": "print(var_dic_list())"
    },
    "r": {
     "delete_cmd_postfix": ") ",
     "delete_cmd_prefix": "rm(",
     "library": "var_list.r",
     "varRefreshCmd": "cat(var_dic_list()) "
    }
   },
   "types_to_exclude": [
    "module",
    "function",
    "builtin_function_or_method",
    "instance",
    "_Feature"
   ],
   "window_display": false
  }
 },
 "nbformat": 4,
 "nbformat_minor": 2
}
