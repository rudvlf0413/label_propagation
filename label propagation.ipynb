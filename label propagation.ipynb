{
 "cells": [
  {
   "cell_type": "code",
   "execution_count": 76,
   "metadata": {
    "ExecuteTime": {
     "end_time": "2017-11-21T11:57:23.188127Z",
     "start_time": "2017-11-21T11:57:23.052466Z"
    }
   },
   "outputs": [],
   "source": [
    "# coding: utf-8\n",
    "from label_propagation import LGC, HMN, PARW, OMNI, CAMLP\n",
    "from sklearn.model_selection import GridSearchCV\n",
    "from sklearn.model_selection import train_test_split\n",
    "from sklearn.metrics import f1_score, accuracy_score, recall_score, precision_score\n",
    "from scipy.sparse import dok_matrix\n",
    "import numpy as np\n",
    "import networkx as nx\n",
    "import pickle\n",
    "import re\n",
    "\n",
    "# 다른 비교 모델\n",
    "# https://networkx.github.io/documentation/stable/reference/algorithms/generated/networkx.algorithms.community.asyn_lpa.asyn_lpa_communities.html#networkx.algorithms.community.asyn_lpa.asyn_lpa_communities\n",
    "\n",
    "with open(\"data/tweets.txt\", 'rb') as f:\n",
    "    data = pickle.load(f)"
   ]
  },
  {
   "cell_type": "code",
   "execution_count": 84,
   "metadata": {
    "ExecuteTime": {
     "end_time": "2017-11-21T12:31:42.801428Z",
     "start_time": "2017-11-21T12:31:42.702474Z"
    },
    "collapsed": true
   },
   "outputs": [],
   "source": [
    "data_ = []\n",
    "for d in data:\n",
    "    tmp = {}\n",
    "    tmp['label'] = d['label']\n",
    "    text = d['body']\n",
    "    text = re.sub(r'http\\S+', '', text)\n",
    "    text = [w for w in text.split() if w.isalpha()]\n",
    "    if len(text) < 2:\n",
    "        # 단어 한개 이하는 무시\n",
    "        continue\n",
    "        \n",
    "    text = \" \".join(text).strip()\n",
    "    text = text.lower()\n",
    "\n",
    "    if text == '':\n",
    "        # 빈 문자열 무시\n",
    "        continue\n",
    "\n",
    "    tmp['body'] = text\n",
    "    tmp['sentence_embedding'] = d['sentence_embedding']\n",
    "    data_.append(tmp)\n",
    "\n",
    "data = data_\n",
    "del data_\n",
    "\n",
    "data = [(i, d['body'], d['label'], d['sentence_embedding']) for i, d in enumerate(data)]"
   ]
  },
  {
   "cell_type": "code",
   "execution_count": 85,
   "metadata": {
    "ExecuteTime": {
     "end_time": "2017-11-21T12:32:10.101228Z",
     "start_time": "2017-11-21T12:31:43.355794Z"
    }
   },
   "outputs": [],
   "source": [
    "G = nx.Graph()\n",
    "for i, body, label, embedding in data:\n",
    "    words_i = set(body.split())\n",
    "    for j, body2, label2, embedding in data[i+1:]:\n",
    "        words_j = set(body2.split())\n",
    "        \n",
    "        if len(words_i.intersection(words_j)) > 4:\n",
    "            G.add_edge(i, j)"
   ]
  },
  {
   "cell_type": "code",
   "execution_count": 86,
   "metadata": {
    "ExecuteTime": {
     "end_time": "2017-11-21T12:32:24.983822Z",
     "start_time": "2017-11-21T12:32:23.808240Z"
    }
   },
   "outputs": [
    {
     "name": "stdout",
     "output_type": "stream",
     "text": [
      "5600\n",
      "1747\n"
     ]
    }
   ],
   "source": [
    "num_data = len(data)\n",
    "adjacency = dok_matrix((num_data, num_data), dtype=np.float32)\n",
    "\n",
    "print(num_data)\n",
    "print(len(G.adj))\n",
    "for idx, i in enumerate(G.adj):\n",
    "    sentence_emb_i = data[i][3]\n",
    "    sentence_emb_i /= np.linalg.norm(sentence_emb_i)\n",
    "    for j in G.adj[i]:\n",
    "        sentence_emb_j = data[j][3]\n",
    "        sentence_emb_j /= np.linalg.norm(sentence_emb_j)\n",
    "        distance = 1 - sentence_emb_i.dot(sentence_emb_j)\n",
    "        adjacency[i, j] = distance\n",
    "        adjacency[j, i] = distance\n",
    "\n",
    "adjacency = adjacency.tocsr()"
   ]
  },
  {
   "cell_type": "code",
   "execution_count": 87,
   "metadata": {
    "ExecuteTime": {
     "end_time": "2017-11-21T12:32:28.430087Z",
     "start_time": "2017-11-21T12:32:28.359791Z"
    }
   },
   "outputs": [],
   "source": [
    "from random import shuffle\n",
    "labels = {'related': 1, 'not related': 0}\n",
    "related_data_indexes = [d[0] for d in data if d[2] == 'related']\n",
    "nonrelated_data_indexes = [d[0] for d in data if d[2] == 'not related']\n",
    "\n",
    "shuffle(related_data_indexes)\n",
    "shuffle(nonrelated_data_indexes)\n",
    "\n",
    "train_related_indexes = related_data_indexes[:int(len(related_data_indexes)*0.1)]\n",
    "train_related_indexes = sorted(train_related_indexes)\n",
    "test_related_indexes = related_data_indexes[int(len(related_data_indexes)*0.1):]\n",
    "test_related_indexes = sorted(test_related_indexes)\n",
    "train_nonrelated_indexes = nonrelated_data_indexes[:int(len(related_data_indexes)*0.1)]\n",
    "train_nonrelated_indexes = sorted(train_nonrelated_indexes)\n",
    "test_nonrelated_indexes = nonrelated_data_indexes[int(len(related_data_indexes)*0.1):]\n",
    "test_nonrelated_indexes = sorted(test_nonrelated_indexes)\n",
    "\n",
    "# related\n",
    "X_train = [i for i in train_related_indexes]\n",
    "# not related\n",
    "X_train.extend([i for i in train_nonrelated_indexes])\n",
    "X_train = np.array(X_train)\n",
    "\n",
    "# related\n",
    "X_test = [i for i in test_related_indexes]\n",
    "# not related\n",
    "X_test.extend([i for i in test_nonrelated_indexes])\n",
    "X_test = np.array(X_test)\n",
    "\n",
    "# related\n",
    "y_train = [labels[data[i][2]] for i in train_related_indexes]\n",
    "# not related\n",
    "y_train.extend([labels[data[i][2]] for i in train_nonrelated_indexes])\n",
    "y_train = np.array(y_train)\n",
    "\n",
    "# related\n",
    "y_test = [labels[data[i][2]] for i in test_related_indexes]\n",
    "# not related\n",
    "y_test.extend([labels[data[i][2]] for i in test_nonrelated_indexes])\n",
    "y_test = np.array(y_test)"
   ]
  },
  {
   "cell_type": "code",
   "execution_count": 88,
   "metadata": {
    "ExecuteTime": {
     "end_time": "2017-11-21T12:32:38.382759Z",
     "start_time": "2017-11-21T12:32:32.021418Z"
    },
    "scrolled": true
   },
   "outputs": [
    {
     "name": "stdout",
     "output_type": "stream",
     "text": [
      "=========================\n",
      "HMN\n",
      "{'graph': <5600x5600 sparse matrix of type '<class 'numpy.float32'>'\n",
      "\twith 30828 stored elements in Compressed Sparse Row format>}\n",
      "Accuracy: 0.867077\n",
      "Recall: 0.342670\n",
      "Precision: 0.976064\n",
      "f1 score: 0.507256\n",
      "=========================\n",
      "LGC\n"
     ]
    },
    {
     "name": "stderr",
     "output_type": "stream",
     "text": [
      "/home/rudvlf0413/anaconda3/lib/python3.6/site-packages/scipy/sparse/data.py:119: RuntimeWarning: invalid value encountered in sqrt\n",
      "  result = op(self.data)\n",
      "/home/rudvlf0413/anaconda3/lib/python3.6/site-packages/scipy/sparse/data.py:119: RuntimeWarning: invalid value encountered in sqrt\n",
      "  result = op(self.data)\n",
      "/home/rudvlf0413/anaconda3/lib/python3.6/site-packages/scipy/sparse/data.py:119: RuntimeWarning: invalid value encountered in sqrt\n",
      "  result = op(self.data)\n",
      "/home/rudvlf0413/anaconda3/lib/python3.6/site-packages/scipy/sparse/data.py:119: RuntimeWarning: invalid value encountered in sqrt\n",
      "  result = op(self.data)\n",
      "/home/rudvlf0413/anaconda3/lib/python3.6/site-packages/scipy/sparse/data.py:119: RuntimeWarning: invalid value encountered in sqrt\n",
      "  result = op(self.data)\n",
      "/home/rudvlf0413/anaconda3/lib/python3.6/site-packages/scipy/sparse/data.py:119: RuntimeWarning: invalid value encountered in sqrt\n",
      "  result = op(self.data)\n",
      "/home/rudvlf0413/anaconda3/lib/python3.6/site-packages/scipy/sparse/data.py:119: RuntimeWarning: invalid value encountered in sqrt\n",
      "  result = op(self.data)\n",
      "/home/rudvlf0413/anaconda3/lib/python3.6/site-packages/scipy/sparse/data.py:119: RuntimeWarning: invalid value encountered in sqrt\n",
      "  result = op(self.data)\n",
      "/home/rudvlf0413/anaconda3/lib/python3.6/site-packages/scipy/sparse/data.py:119: RuntimeWarning: invalid value encountered in sqrt\n",
      "  result = op(self.data)\n",
      "/home/rudvlf0413/anaconda3/lib/python3.6/site-packages/scipy/sparse/data.py:119: RuntimeWarning: invalid value encountered in sqrt\n",
      "  result = op(self.data)\n",
      "/home/rudvlf0413/anaconda3/lib/python3.6/site-packages/scipy/sparse/data.py:119: RuntimeWarning: invalid value encountered in sqrt\n",
      "  result = op(self.data)\n",
      "/home/rudvlf0413/anaconda3/lib/python3.6/site-packages/scipy/sparse/data.py:119: RuntimeWarning: invalid value encountered in sqrt\n",
      "  result = op(self.data)\n",
      "/home/rudvlf0413/anaconda3/lib/python3.6/site-packages/scipy/sparse/data.py:119: RuntimeWarning: invalid value encountered in sqrt\n",
      "  result = op(self.data)\n",
      "/home/rudvlf0413/anaconda3/lib/python3.6/site-packages/scipy/sparse/data.py:119: RuntimeWarning: invalid value encountered in sqrt\n",
      "  result = op(self.data)\n",
      "/home/rudvlf0413/anaconda3/lib/python3.6/site-packages/scipy/sparse/data.py:119: RuntimeWarning: invalid value encountered in sqrt\n",
      "  result = op(self.data)\n",
      "/home/rudvlf0413/anaconda3/lib/python3.6/site-packages/scipy/sparse/data.py:119: RuntimeWarning: invalid value encountered in sqrt\n",
      "  result = op(self.data)\n",
      "/home/rudvlf0413/anaconda3/lib/python3.6/site-packages/scipy/sparse/data.py:119: RuntimeWarning: invalid value encountered in sqrt\n",
      "  result = op(self.data)\n",
      "/home/rudvlf0413/anaconda3/lib/python3.6/site-packages/scipy/sparse/data.py:119: RuntimeWarning: invalid value encountered in sqrt\n",
      "  result = op(self.data)\n",
      "/home/rudvlf0413/anaconda3/lib/python3.6/site-packages/scipy/sparse/data.py:119: RuntimeWarning: invalid value encountered in sqrt\n",
      "  result = op(self.data)\n",
      "/home/rudvlf0413/anaconda3/lib/python3.6/site-packages/scipy/sparse/data.py:119: RuntimeWarning: invalid value encountered in sqrt\n",
      "  result = op(self.data)\n",
      "/home/rudvlf0413/anaconda3/lib/python3.6/site-packages/scipy/sparse/data.py:119: RuntimeWarning: invalid value encountered in sqrt\n",
      "  result = op(self.data)\n",
      "/home/rudvlf0413/anaconda3/lib/python3.6/site-packages/scipy/sparse/data.py:119: RuntimeWarning: invalid value encountered in sqrt\n",
      "  result = op(self.data)\n",
      "/home/rudvlf0413/anaconda3/lib/python3.6/site-packages/scipy/sparse/data.py:119: RuntimeWarning: invalid value encountered in sqrt\n",
      "  result = op(self.data)\n",
      "/home/rudvlf0413/anaconda3/lib/python3.6/site-packages/scipy/sparse/data.py:119: RuntimeWarning: invalid value encountered in sqrt\n",
      "  result = op(self.data)\n",
      "/home/rudvlf0413/anaconda3/lib/python3.6/site-packages/scipy/sparse/data.py:119: RuntimeWarning: invalid value encountered in sqrt\n",
      "  result = op(self.data)\n",
      "/home/rudvlf0413/anaconda3/lib/python3.6/site-packages/scipy/sparse/data.py:119: RuntimeWarning: invalid value encountered in sqrt\n",
      "  result = op(self.data)\n",
      "/home/rudvlf0413/anaconda3/lib/python3.6/site-packages/scipy/sparse/data.py:119: RuntimeWarning: invalid value encountered in sqrt\n",
      "  result = op(self.data)\n",
      "/home/rudvlf0413/anaconda3/lib/python3.6/site-packages/scipy/sparse/data.py:119: RuntimeWarning: invalid value encountered in sqrt\n",
      "  result = op(self.data)\n",
      "/home/rudvlf0413/anaconda3/lib/python3.6/site-packages/scipy/sparse/data.py:119: RuntimeWarning: invalid value encountered in sqrt\n",
      "  result = op(self.data)\n",
      "/home/rudvlf0413/anaconda3/lib/python3.6/site-packages/scipy/sparse/data.py:119: RuntimeWarning: invalid value encountered in sqrt\n",
      "  result = op(self.data)\n",
      "/home/rudvlf0413/anaconda3/lib/python3.6/site-packages/scipy/sparse/data.py:119: RuntimeWarning: invalid value encountered in sqrt\n",
      "  result = op(self.data)\n",
      "/home/rudvlf0413/anaconda3/lib/python3.6/site-packages/scipy/sparse/data.py:119: RuntimeWarning: invalid value encountered in sqrt\n",
      "  result = op(self.data)\n",
      "/home/rudvlf0413/anaconda3/lib/python3.6/site-packages/scipy/sparse/data.py:119: RuntimeWarning: invalid value encountered in sqrt\n",
      "  result = op(self.data)\n",
      "/home/rudvlf0413/anaconda3/lib/python3.6/site-packages/scipy/sparse/data.py:119: RuntimeWarning: invalid value encountered in sqrt\n",
      "  result = op(self.data)\n",
      "/home/rudvlf0413/anaconda3/lib/python3.6/site-packages/scipy/sparse/data.py:119: RuntimeWarning: invalid value encountered in sqrt\n",
      "  result = op(self.data)\n",
      "/home/rudvlf0413/anaconda3/lib/python3.6/site-packages/scipy/sparse/data.py:119: RuntimeWarning: invalid value encountered in sqrt\n",
      "  result = op(self.data)\n",
      "/home/rudvlf0413/anaconda3/lib/python3.6/site-packages/scipy/sparse/data.py:119: RuntimeWarning: invalid value encountered in sqrt\n",
      "  result = op(self.data)\n",
      "/home/rudvlf0413/anaconda3/lib/python3.6/site-packages/scipy/sparse/data.py:119: RuntimeWarning: invalid value encountered in sqrt\n",
      "  result = op(self.data)\n",
      "/home/rudvlf0413/anaconda3/lib/python3.6/site-packages/scipy/sparse/data.py:119: RuntimeWarning: invalid value encountered in sqrt\n",
      "  result = op(self.data)\n",
      "/home/rudvlf0413/anaconda3/lib/python3.6/site-packages/scipy/sparse/data.py:119: RuntimeWarning: invalid value encountered in sqrt\n",
      "  result = op(self.data)\n"
     ]
    },
    {
     "name": "stdout",
     "output_type": "stream",
     "text": [
      "{'alpha': 0.75, 'graph': <5600x5600 sparse matrix of type '<class 'numpy.float32'>'\n",
      "\twith 30828 stored elements in Compressed Sparse Row format>}\n",
      "Accuracy: 0.859433\n",
      "Recall: 0.392157\n",
      "Precision: 0.803059\n",
      "f1 score: 0.526976\n",
      "=========================\n",
      "OMNI\n"
     ]
    },
    {
     "name": "stderr",
     "output_type": "stream",
     "text": [
      "/home/rudvlf0413/anaconda3/lib/python3.6/site-packages/scipy/sparse/data.py:119: RuntimeWarning: invalid value encountered in sqrt\n",
      "  result = op(self.data)\n"
     ]
    },
    {
     "name": "stdout",
     "output_type": "stream",
     "text": [
      "{'graph': <5600x5600 sparse matrix of type '<class 'numpy.float32'>'\n",
      "\twith 30828 stored elements in Compressed Sparse Row format>, 'lamb': 0.001}\n",
      "Accuracy: 0.860738\n",
      "Recall: 0.306256\n",
      "Precision: 0.987952\n",
      "f1 score: 0.467569\n",
      "=========================\n",
      "CAMLP\n",
      "{'H': array([[1, 0],\n",
      "       [0, 1]]), 'beta': 0.1, 'graph': <5600x5600 sparse matrix of type '<class 'numpy.float32'>'\n",
      "\twith 30828 stored elements in Compressed Sparse Row format>}\n",
      "Accuracy: 0.858128\n",
      "Recall: 0.381886\n",
      "Precision: 0.805118\n",
      "f1 score: 0.518049\n"
     ]
    }
   ],
   "source": [
    "methods = [('HMN', HMN(), {'graph': [adjacency]}),\n",
    "           ('LGC', LGC(), {'graph': [adjacency], 'alpha':[\n",
    "            0.001, 0.1, 0.5, 0.75]}),\n",
    "           # ('PARW', PARW(), {'graph':[adjacency], 'lamb':[0.01, 0.05, 0.01, 0.5, 0.99]}),\n",
    "           ('OMNI', OMNI(), {'graph': [adjacency], 'lamb':[\n",
    "            0.001, 0.025, 0.005, 0.01]}),\n",
    "           ('CAMLP', CAMLP(), {'graph': [adjacency], 'beta':[\n",
    "            0.01, 0.025, 0.05, 0.1], 'H':[np.array([[1, 0], [0, 1]]), np.array([[0, 1], [1, 0]])]})]\n",
    "\n",
    "models = []\n",
    "for name, clf, params in methods:\n",
    "    print(\"=========================\")\n",
    "    print(name)\n",
    "    gs = GridSearchCV(clf, params, cv=10, n_jobs=10)\n",
    "    gs.fit(X_train, y_train)\n",
    "\n",
    "    model = gs.best_estimator_\n",
    "    print(gs.best_params_)\n",
    "    model.fit(X_train, y_train)\n",
    "    models.append(model)\n",
    "\n",
    "    predicted = model.predict(X_test)\n",
    "    print(\"Accuracy: %f\" % accuracy_score(y_test, predicted))\n",
    "    print(\"Recall: %f\" % recall_score(y_test, predicted))\n",
    "    print(\"Precision: %f\" % precision_score(y_test, predicted))\n",
    "    print(\"f1 score: %f\" % f1_score(y_test, predicted))"
   ]
  },
  {
   "cell_type": "code",
   "execution_count": 73,
   "metadata": {
    "ExecuteTime": {
     "end_time": "2017-11-21T11:46:09.431241Z",
     "start_time": "2017-11-21T11:46:09.425661Z"
    }
   },
   "outputs": [
    {
     "name": "stdout",
     "output_type": "stream",
     "text": [
      "4962\n",
      "5364\n"
     ]
    }
   ],
   "source": [
    "print(len(predicted[predicted==0]))\n",
    "print(len(predicted))"
   ]
  },
  {
   "cell_type": "code",
   "execution_count": 80,
   "metadata": {
    "ExecuteTime": {
     "end_time": "2017-11-21T11:59:11.642979Z",
     "start_time": "2017-11-21T11:59:11.631279Z"
    }
   },
   "outputs": [],
   "source": [
    "predicted = models[1].predict(X_test)"
   ]
  },
  {
   "cell_type": "code",
   "execution_count": null,
   "metadata": {
    "collapsed": true
   },
   "outputs": [],
   "source": []
  }
 ],
 "metadata": {
  "kernelspec": {
   "display_name": "Python 3",
   "language": "python",
   "name": "python3"
  },
  "language_info": {
   "codemirror_mode": {
    "name": "ipython",
    "version": 3
   },
   "file_extension": ".py",
   "mimetype": "text/x-python",
   "name": "python",
   "nbconvert_exporter": "python",
   "pygments_lexer": "ipython3",
   "version": "3.6.3"
  },
  "varInspector": {
   "cols": {
    "lenName": 16,
    "lenType": 16,
    "lenVar": 40
   },
   "kernels_config": {
    "python": {
     "delete_cmd_postfix": "",
     "delete_cmd_prefix": "del ",
     "library": "var_list.py",
     "varRefreshCmd": "print(var_dic_list())"
    },
    "r": {
     "delete_cmd_postfix": ") ",
     "delete_cmd_prefix": "rm(",
     "library": "var_list.r",
     "varRefreshCmd": "cat(var_dic_list()) "
    }
   },
   "types_to_exclude": [
    "module",
    "function",
    "builtin_function_or_method",
    "instance",
    "_Feature"
   ],
   "window_display": false
  }
 },
 "nbformat": 4,
 "nbformat_minor": 2
}
