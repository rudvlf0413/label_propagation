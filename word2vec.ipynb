{
 "cells": [
  {
   "cell_type": "code",
   "execution_count": 1,
   "metadata": {
    "ExecuteTime": {
     "end_time": "2017-11-19T14:59:30.138147Z",
     "start_time": "2017-11-19T14:59:14.089359Z"
    }
   },
   "outputs": [
    {
     "name": "stderr",
     "output_type": "stream",
     "text": [
      "Using TensorFlow backend.\n"
     ]
    }
   ],
   "source": [
    "import gensim\n",
    "import pickle\n",
    "import re\n",
    "\n",
    "with open(\"data/tweets.txt\", 'rb') as f:\n",
    "    data = pickle.load(f)\n",
    "\n",
    "data_ = []\n",
    "for d in data:\n",
    "    tmp = {}\n",
    "    tmp['label'] = d['label']\n",
    "    text = d['body']\n",
    "    text = re.sub(r'http\\S+', '', text)\n",
    "    text = [w for w in text.split() if w.isalpha()]\n",
    "    if len(text) < 2:\n",
    "        continue\n",
    "        \n",
    "    text = \" \".join(text).strip()\n",
    "    text = text.lower()\n",
    "\n",
    "    if text == '':\n",
    "        continue\n",
    "\n",
    "    tmp['body'] = text\n",
    "    data_.append(tmp)\n",
    "\n",
    "data = data_\n",
    "del data_"
   ]
  },
  {
   "cell_type": "code",
   "execution_count": 2,
   "metadata": {
    "ExecuteTime": {
     "end_time": "2017-11-19T14:59:30.152533Z",
     "start_time": "2017-11-19T14:59:30.140565Z"
    },
    "collapsed": true
   },
   "outputs": [],
   "source": [
    "texts = [d['body'].split() for d in data]"
   ]
  },
  {
   "cell_type": "code",
   "execution_count": 3,
   "metadata": {
    "ExecuteTime": {
     "end_time": "2017-11-19T14:59:31.202710Z",
     "start_time": "2017-11-19T14:59:30.154602Z"
    },
    "collapsed": true
   },
   "outputs": [],
   "source": [
    "model = gensim.models.word2vec.Word2Vec(texts, size=200, window=5, min_count=5, workers=4, sg=1)"
   ]
  },
  {
   "cell_type": "code",
   "execution_count": 4,
   "metadata": {
    "ExecuteTime": {
     "end_time": "2017-11-19T14:59:31.385928Z",
     "start_time": "2017-11-19T14:59:31.205348Z"
    },
    "collapsed": true
   },
   "outputs": [],
   "source": [
    "model.wv.save_word2vec_format('word2vec.txt')"
   ]
  },
  {
   "cell_type": "code",
   "execution_count": null,
   "metadata": {
    "collapsed": true
   },
   "outputs": [],
   "source": []
  }
 ],
 "metadata": {
  "kernelspec": {
   "display_name": "Python 3",
   "language": "python",
   "name": "python3"
  },
  "language_info": {
   "codemirror_mode": {
    "name": "ipython",
    "version": 3
   },
   "file_extension": ".py",
   "mimetype": "text/x-python",
   "name": "python",
   "nbconvert_exporter": "python",
   "pygments_lexer": "ipython3",
   "version": "3.6.3"
  }
 },
 "nbformat": 4,
 "nbformat_minor": 2
}
