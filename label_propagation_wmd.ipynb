{
 "cells": [
  {
   "cell_type": "code",
   "execution_count": 9,
   "metadata": {
    "ExecuteTime": {
     "end_time": "2017-11-21T12:05:34.802437Z",
     "start_time": "2017-11-21T12:05:34.507171Z"
    }
   },
   "outputs": [],
   "source": [
    "# coding: utf-8\n",
    "from label_propagation import LGC, HMN, PARW, OMNI, CAMLP\n",
    "from sklearn.model_selection import GridSearchCV\n",
    "from sklearn.model_selection import train_test_split\n",
    "from sklearn.metrics import f1_score, accuracy_score, recall_score, precision_score\n",
    "from scipy.sparse import dok_matrix\n",
    "import numpy as np\n",
    "import networkx as nx\n",
    "from collections import Counter\n",
    "import pickle\n",
    "import re\n",
    "import gensim\n",
    "from itertools import product\n",
    "from scipy.spatial.distance import euclidean\n",
    "import pulp\n",
    "\n",
    "# 다른 비교 모델\n",
    "# https://networkx.github.io/documentation/stable/reference/algorithms/generated/networkx.algorithms.community.asyn_lpa.asyn_lpa_communities.html#networkx.algorithms.community.asyn_lpa.asyn_lpa_communities\n",
    "\n",
    "with open(\"data/tweets.txt\", 'rb') as f:\n",
    "    data = pickle.load(f)\n",
    "    \n",
    "word2vec = gensim.models.KeyedVectors.load_word2vec_format('word2vec.txt')"
   ]
  },
  {
   "cell_type": "code",
   "execution_count": 2,
   "metadata": {
    "ExecuteTime": {
     "end_time": "2017-11-21T11:47:34.404477Z",
     "start_time": "2017-11-21T11:47:34.313882Z"
    },
    "collapsed": true
   },
   "outputs": [],
   "source": [
    "data_ = []\n",
    "for d in data:\n",
    "    tmp = {}\n",
    "    tmp['label'] = d['label']\n",
    "    text = d['body']\n",
    "    text = re.sub(r'http\\S+', '', text)\n",
    "    text = [w for w in text.split() if w.isalpha()]\n",
    "    if len(text) < 2:\n",
    "        # 단어 한개 이하는 무시\n",
    "        continue\n",
    "        \n",
    "    text = \" \".join(text).strip()\n",
    "    text = text.lower()\n",
    "\n",
    "    if text == '':\n",
    "        # 빈 문자열 무시\n",
    "        continue\n",
    "\n",
    "    tmp['body'] = text\n",
    "    tmp['sentence_embedding'] = d['sentence_embedding']\n",
    "    data_.append(tmp)\n",
    "\n",
    "data = data_\n",
    "del data_\n",
    "\n",
    "data = [(i, d['body'], d['label']) for i, d in enumerate(data)]"
   ]
  },
  {
   "cell_type": "code",
   "execution_count": 3,
   "metadata": {
    "ExecuteTime": {
     "end_time": "2017-11-21T11:47:34.613682Z",
     "start_time": "2017-11-21T11:47:34.406309Z"
    },
    "collapsed": true
   },
   "outputs": [],
   "source": [
    "def tokens_to_fracdict(tokens):\n",
    "    cntdict = Counter(tokens)\n",
    "    totalcnt = sum(cntdict.values())\n",
    "    return {token: float(cnt)/totalcnt for token, cnt in cntdict.items()}\n",
    "\n",
    "# use PuLP\n",
    "def word_mover_distance_probspec(first_sent_tokens, second_sent_tokens, wvmodel):\n",
    "    all_tokens = list(set(first_sent_tokens+second_sent_tokens))\n",
    "    wordvecs = {token: wvmodel[token] for token in all_tokens}\n",
    "\n",
    "    first_sent_buckets = tokens_to_fracdict(first_sent_tokens)\n",
    "    second_sent_buckets = tokens_to_fracdict(second_sent_tokens)\n",
    "\n",
    "    T = pulp.LpVariable.dicts('T_matrix', list(product(all_tokens, all_tokens)), lowBound=0)\n",
    "\n",
    "    prob = pulp.LpProblem('WMD', sense=pulp.LpMinimize)\n",
    "    prob += pulp.lpSum([T[token1, token2]*euclidean(wordvecs[token1], wordvecs[token2])\n",
    "                        for token1, token2 in product(all_tokens, all_tokens)])\n",
    "    for token2 in second_sent_buckets:\n",
    "        prob += pulp.lpSum([T[token1, token2] for token1 in first_sent_buckets])==second_sent_buckets[token2]\n",
    "    for token1 in first_sent_buckets:\n",
    "        prob += pulp.lpSum([T[token1, token2] for token2 in second_sent_buckets])==first_sent_buckets[token1]\n",
    "\n",
    "    prob.solve()\n",
    "    return prob\n",
    "\n",
    "def word_mover_distance(first_sent_tokens, second_sent_tokens, wvmodel):\n",
    "    prob = word_mover_distance_probspec(first_sent_tokens, second_sent_tokens, wvmodel)\n",
    "    return pulp.value(prob.objective)"
   ]
  },
  {
   "cell_type": "code",
   "execution_count": 4,
   "metadata": {
    "ExecuteTime": {
     "end_time": "2017-11-21T11:47:59.040956Z",
     "start_time": "2017-11-21T11:47:34.615871Z"
    },
    "collapsed": true
   },
   "outputs": [],
   "source": [
    "G = nx.Graph()\n",
    "for i, body, label in data:\n",
    "    words_i = set(body.split())\n",
    "    for j, body2, label2 in data[i+1:]:\n",
    "        words_j = set(body2.split())\n",
    "        \n",
    "        if len(words_i.intersection(words_j)) > 4:\n",
    "            G.add_edge(i, j)"
   ]
  },
  {
   "cell_type": "code",
   "execution_count": 5,
   "metadata": {
    "ExecuteTime": {
     "end_time": "2017-11-21T12:03:31.263569Z",
     "start_time": "2017-11-21T11:47:59.042710Z"
    }
   },
   "outputs": [
    {
     "name": "stdout",
     "output_type": "stream",
     "text": [
      "5600\n",
      "1747\n",
      "0\n",
      "100\n",
      "200\n",
      "300\n",
      "400\n",
      "500\n",
      "600\n",
      "700\n",
      "800\n",
      "900\n",
      "1000\n",
      "1100\n",
      "1200\n",
      "1300\n",
      "1400\n",
      "1500\n",
      "1600\n",
      "1700\n"
     ]
    }
   ],
   "source": [
    "num_data = len(data)\n",
    "adjacency = dok_matrix((num_data, num_data), dtype=np.float32)\n",
    "\n",
    "print(num_data)\n",
    "print(len(G.adj))\n",
    "for idx, i in enumerate(G.adj):\n",
    "    if idx % 100 == 0:\n",
    "        print(idx)\n",
    "    token_i = [w for w in data[i][1].split() if w in word2vec]\n",
    "    for j in G.adj[i]:\n",
    "        token_j = [w for w in data[j][1].split() if w in word2vec]\n",
    "        distance = word_mover_distance(token_i, token_j, word2vec)\n",
    "        adjacency[i, j] = distance\n",
    "        adjacency[j, i] = distance\n",
    "\n",
    "adjacency = adjacency.tocsr()"
   ]
  },
  {
   "cell_type": "code",
   "execution_count": 6,
   "metadata": {
    "ExecuteTime": {
     "end_time": "2017-11-21T12:03:31.271407Z",
     "start_time": "2017-11-21T12:03:31.265345Z"
    },
    "collapsed": true
   },
   "outputs": [],
   "source": [
    "np.savez(\"adjacency.npz\", adjacency)"
   ]
  },
  {
   "cell_type": "code",
   "execution_count": 7,
   "metadata": {
    "ExecuteTime": {
     "end_time": "2017-11-21T12:03:31.512700Z",
     "start_time": "2017-11-21T12:03:31.273542Z"
    },
    "collapsed": true
   },
   "outputs": [],
   "source": [
    "from random import shuffle\n",
    "labels = {'related': 1, 'not related': 0}\n",
    "related_data_indexes = [d[0] for d in data if d[2] == 'related']\n",
    "nonrelated_data_indexes = [d[0] for d in data if d[2] == 'not related']\n",
    "\n",
    "shuffle(related_data_indexes)\n",
    "shuffle(nonrelated_data_indexes)\n",
    "\n",
    "train_related_indexes = related_data_indexes[:int(len(related_data_indexes)*0.1)]\n",
    "train_related_indexes = sorted(train_related_indexes)\n",
    "test_related_indexes = related_data_indexes[int(len(related_data_indexes)*0.1):]\n",
    "test_related_indexes = sorted(test_related_indexes)\n",
    "train_nonrelated_indexes = nonrelated_data_indexes[:int(len(related_data_indexes)*0.1)]\n",
    "train_nonrelated_indexes = sorted(train_nonrelated_indexes)\n",
    "test_nonrelated_indexes = nonrelated_data_indexes[int(len(related_data_indexes)*0.1):]\n",
    "test_nonrelated_indexes = sorted(test_nonrelated_indexes)\n",
    "\n",
    "# related\n",
    "X_train = [i for i in train_related_indexes]\n",
    "# not related\n",
    "X_train.extend([i for i in train_nonrelated_indexes])\n",
    "X_train = np.array(X_train)\n",
    "\n",
    "# related\n",
    "X_test = [i for i in test_related_indexes]\n",
    "# not related\n",
    "X_test.extend([i for i in test_nonrelated_indexes])\n",
    "X_test = np.array(X_test)\n",
    "\n",
    "# related\n",
    "y_train = [labels[data[i][2]] for i in train_related_indexes]\n",
    "# not related\n",
    "y_train.extend([labels[data[i][2]] for i in train_nonrelated_indexes])\n",
    "y_train = np.array(y_train)\n",
    "\n",
    "# related\n",
    "y_test = [labels[data[i][2]] for i in test_related_indexes]\n",
    "# not related\n",
    "y_test.extend([labels[data[i][2]] for i in test_nonrelated_indexes])\n",
    "y_test = np.array(y_test)"
   ]
  },
  {
   "cell_type": "code",
   "execution_count": 10,
   "metadata": {
    "ExecuteTime": {
     "end_time": "2017-11-21T12:05:46.862134Z",
     "start_time": "2017-11-21T12:05:40.833194Z"
    }
   },
   "outputs": [
    {
     "name": "stdout",
     "output_type": "stream",
     "text": [
      "=========================\n",
      "HMN\n",
      "{'graph': <5600x5600 sparse matrix of type '<class 'numpy.float32'>'\n",
      "\twith 22644 stored elements in Compressed Sparse Row format>}\n",
      "Accuracy: 0.853468\n",
      "Recall: 0.343604\n",
      "Precision: 0.815965\n",
      "f1 score: 0.483574\n",
      "=========================\n",
      "LGC\n",
      "{'alpha': 0.75, 'graph': <5600x5600 sparse matrix of type '<class 'numpy.float32'>'\n",
      "\twith 22644 stored elements in Compressed Sparse Row format>}\n",
      "Accuracy: 0.848434\n",
      "Recall: 0.355742\n",
      "Precision: 0.755952\n",
      "f1 score: 0.483810\n",
      "=========================\n",
      "OMNI\n",
      "{'graph': <5600x5600 sparse matrix of type '<class 'numpy.float32'>'\n",
      "\twith 22644 stored elements in Compressed Sparse Row format>, 'lamb': 0.025}\n",
      "Accuracy: 0.849925\n",
      "Recall: 0.319328\n",
      "Precision: 0.818182\n",
      "f1 score: 0.459369\n",
      "=========================\n",
      "CAMLP\n",
      "{'H': array([[1, 0],\n",
      "       [0, 1]]), 'beta': 0.05, 'graph': <5600x5600 sparse matrix of type '<class 'numpy.float32'>'\n",
      "\twith 22644 stored elements in Compressed Sparse Row format>}\n",
      "Accuracy: 0.824385\n",
      "Recall: 0.362278\n",
      "Precision: 0.599691\n",
      "f1 score: 0.451688\n"
     ]
    }
   ],
   "source": [
    "methods = [('HMN', HMN(), {'graph': [adjacency]}),\n",
    "           ('LGC', LGC(), {'graph': [adjacency], 'alpha':[\n",
    "            0.001, 0.1, 0.5, 0.75]}),\n",
    "           # ('PARW', PARW(), {'graph':[adjacency], 'lamb':[0.01, 0.05, 0.01, 0.5, 0.99]}),\n",
    "           ('OMNI', OMNI(), {'graph': [adjacency], 'lamb':[\n",
    "            0.001, 0.025, 0.005, 0.01]}),\n",
    "           ('CAMLP', CAMLP(), {'graph': [adjacency], 'beta':[\n",
    "            0.01, 0.025, 0.05, 0.1], 'H':[np.array([[1, 0], [0, 1]]), np.array([[0, 1], [1, 0]])]})]\n",
    "\n",
    "models = []\n",
    "for name, clf, params in methods:\n",
    "    print(\"=========================\")\n",
    "    print(name)\n",
    "    gs = GridSearchCV(clf, params, cv=10, n_jobs=10)\n",
    "    gs.fit(X_train, y_train)\n",
    "\n",
    "    model = gs.best_estimator_\n",
    "    print(gs.best_params_)\n",
    "    model.fit(X_train, y_train)\n",
    "    models.append(model)\n",
    "\n",
    "    predicted = model.predict(X_test)\n",
    "    print(\"Accuracy: %f\" % accuracy_score(y_test, predicted))\n",
    "    print(\"Recall: %f\" % recall_score(y_test, predicted))\n",
    "    print(\"Precision: %f\" % precision_score(y_test, predicted))\n",
    "    print(\"f1 score: %f\" % f1_score(y_test, predicted))"
   ]
  },
  {
   "cell_type": "code",
   "execution_count": null,
   "metadata": {
    "collapsed": true
   },
   "outputs": [],
   "source": []
  }
 ],
 "metadata": {
  "kernelspec": {
   "display_name": "Python 3",
   "language": "python",
   "name": "python3"
  },
  "language_info": {
   "codemirror_mode": {
    "name": "ipython",
    "version": 3
   },
   "file_extension": ".py",
   "mimetype": "text/x-python",
   "name": "python",
   "nbconvert_exporter": "python",
   "pygments_lexer": "ipython3",
   "version": "3.6.3"
  }
 },
 "nbformat": 4,
 "nbformat_minor": 2
}
